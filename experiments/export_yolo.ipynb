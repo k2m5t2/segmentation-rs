{
 "cells": [
  {
   "cell_type": "code",
   "execution_count": null,
   "metadata": {},
   "outputs": [
    {
     "name": "stdout",
     "output_type": "stream",
     "text": [
      "\u001b[33mDEPRECATION: Configuring installation scheme with distutils config files is deprecated and will no longer work in the near future. If you are using a Homebrew or Linuxbrew Python, please see discussion at https://github.com/Homebrew/homebrew-core/issues/76621\u001b[0m\u001b[33m\n",
      "\u001b[0mRequirement already satisfied: ultralytics in /opt/homebrew/lib/python3.9/site-packages (8.1.26)\n",
      "Requirement already satisfied: matplotlib>=3.3.0 in /opt/homebrew/lib/python3.9/site-packages (from ultralytics) (3.8.3)\n",
      "Requirement already satisfied: opencv-python>=4.6.0 in /opt/homebrew/lib/python3.9/site-packages (from ultralytics) (4.8.0.76)\n",
      "Requirement already satisfied: pillow>=7.1.2 in /opt/homebrew/lib/python3.9/site-packages (from ultralytics) (10.2.0)\n",
      "Requirement already satisfied: pyyaml>=5.3.1 in /opt/homebrew/lib/python3.9/site-packages (from ultralytics) (6.0.1)\n",
      "Requirement already satisfied: requests>=2.23.0 in /opt/homebrew/lib/python3.9/site-packages (from ultralytics) (2.31.0)\n",
      "Requirement already satisfied: scipy>=1.4.1 in /opt/homebrew/lib/python3.9/site-packages (from ultralytics) (1.11.2)\n",
      "Requirement already satisfied: torch>=1.8.0 in /opt/homebrew/lib/python3.9/site-packages (from ultralytics) (2.0.1)\n",
      "Requirement already satisfied: torchvision>=0.9.0 in /opt/homebrew/lib/python3.9/site-packages (from ultralytics) (0.15.2)\n",
      "Requirement already satisfied: tqdm>=4.64.0 in /opt/homebrew/lib/python3.9/site-packages (from ultralytics) (4.66.2)\n",
      "Requirement already satisfied: psutil in /Users/yunhocho/Library/Python/3.9/lib/python/site-packages (from ultralytics) (5.9.5)\n",
      "Requirement already satisfied: py-cpuinfo in /opt/homebrew/lib/python3.9/site-packages (from ultralytics) (9.0.0)\n",
      "Requirement already satisfied: thop>=0.1.1 in /opt/homebrew/lib/python3.9/site-packages (from ultralytics) (0.1.1.post2209072238)\n",
      "Requirement already satisfied: pandas>=1.1.4 in /opt/homebrew/lib/python3.9/site-packages (from ultralytics) (2.2.1)\n",
      "Requirement already satisfied: seaborn>=0.11.0 in /opt/homebrew/lib/python3.9/site-packages (from ultralytics) (0.13.2)\n",
      "Requirement already satisfied: contourpy>=1.0.1 in /opt/homebrew/lib/python3.9/site-packages (from matplotlib>=3.3.0->ultralytics) (1.2.0)\n",
      "Requirement already satisfied: cycler>=0.10 in /opt/homebrew/lib/python3.9/site-packages (from matplotlib>=3.3.0->ultralytics) (0.12.1)\n",
      "Requirement already satisfied: fonttools>=4.22.0 in /opt/homebrew/lib/python3.9/site-packages (from matplotlib>=3.3.0->ultralytics) (4.49.0)\n",
      "Requirement already satisfied: kiwisolver>=1.3.1 in /opt/homebrew/lib/python3.9/site-packages (from matplotlib>=3.3.0->ultralytics) (1.4.5)\n",
      "Requirement already satisfied: numpy<2,>=1.21 in /opt/homebrew/lib/python3.9/site-packages (from matplotlib>=3.3.0->ultralytics) (1.23.0)\n",
      "Requirement already satisfied: packaging>=20.0 in /Users/yunhocho/Library/Python/3.9/lib/python/site-packages (from matplotlib>=3.3.0->ultralytics) (23.1)\n",
      "Requirement already satisfied: pyparsing>=2.3.1 in /opt/homebrew/lib/python3.9/site-packages (from matplotlib>=3.3.0->ultralytics) (2.4.5)\n",
      "Requirement already satisfied: python-dateutil>=2.7 in /Users/yunhocho/Library/Python/3.9/lib/python/site-packages (from matplotlib>=3.3.0->ultralytics) (2.8.2)\n",
      "Requirement already satisfied: importlib-resources>=3.2.0 in /opt/homebrew/lib/python3.9/site-packages (from matplotlib>=3.3.0->ultralytics) (6.1.3)\n",
      "Requirement already satisfied: pytz>=2020.1 in /opt/homebrew/lib/python3.9/site-packages (from pandas>=1.1.4->ultralytics) (2024.1)\n",
      "Requirement already satisfied: tzdata>=2022.7 in /opt/homebrew/lib/python3.9/site-packages (from pandas>=1.1.4->ultralytics) (2024.1)\n",
      "Requirement already satisfied: charset-normalizer<4,>=2 in /opt/homebrew/lib/python3.9/site-packages (from requests>=2.23.0->ultralytics) (3.2.0)\n",
      "Requirement already satisfied: idna<4,>=2.5 in /opt/homebrew/lib/python3.9/site-packages (from requests>=2.23.0->ultralytics) (3.4)\n",
      "Requirement already satisfied: urllib3<3,>=1.21.1 in /opt/homebrew/lib/python3.9/site-packages (from requests>=2.23.0->ultralytics) (1.26.18)\n",
      "Requirement already satisfied: certifi>=2017.4.17 in /opt/homebrew/lib/python3.9/site-packages (from requests>=2.23.0->ultralytics) (2023.7.22)\n",
      "Requirement already satisfied: filelock in /opt/homebrew/lib/python3.9/site-packages (from torch>=1.8.0->ultralytics) (3.12.3)\n",
      "Requirement already satisfied: typing-extensions in /Users/yunhocho/Library/Python/3.9/lib/python/site-packages (from torch>=1.8.0->ultralytics) (4.7.1)\n",
      "Requirement already satisfied: sympy in /opt/homebrew/lib/python3.9/site-packages (from torch>=1.8.0->ultralytics) (1.12)\n",
      "Requirement already satisfied: networkx in /opt/homebrew/lib/python3.9/site-packages (from torch>=1.8.0->ultralytics) (3.1)\n",
      "Requirement already satisfied: jinja2 in /opt/homebrew/lib/python3.9/site-packages (from torch>=1.8.0->ultralytics) (3.1.2)\n",
      "Requirement already satisfied: zipp>=3.1.0 in /Users/yunhocho/Library/Python/3.9/lib/python/site-packages (from importlib-resources>=3.2.0->matplotlib>=3.3.0->ultralytics) (3.16.2)\n",
      "Requirement already satisfied: six>=1.5 in /Users/yunhocho/Library/Python/3.9/lib/python/site-packages (from python-dateutil>=2.7->matplotlib>=3.3.0->ultralytics) (1.16.0)\n",
      "Requirement already satisfied: MarkupSafe>=2.0 in /opt/homebrew/lib/python3.9/site-packages (from jinja2->torch>=1.8.0->ultralytics) (2.1.3)\n",
      "Requirement already satisfied: mpmath>=0.19 in /opt/homebrew/lib/python3.9/site-packages (from sympy->torch>=1.8.0->ultralytics) (1.3.0)\n",
      "\u001b[33mDEPRECATION: Configuring installation scheme with distutils config files is deprecated and will no longer work in the near future. If you are using a Homebrew or Linuxbrew Python, please see discussion at https://github.com/Homebrew/homebrew-core/issues/76621\u001b[0m\u001b[33m\n",
      "\u001b[0m\n",
      "\u001b[1m[\u001b[0m\u001b[34;49mnotice\u001b[0m\u001b[1;39;49m]\u001b[0m\u001b[39;49m A new release of pip is available: \u001b[0m\u001b[31;49m23.2.1\u001b[0m\u001b[39;49m -> \u001b[0m\u001b[32;49m24.0\u001b[0m\n",
      "\u001b[1m[\u001b[0m\u001b[34;49mnotice\u001b[0m\u001b[1;39;49m]\u001b[0m\u001b[39;49m To update, run: \u001b[0m\u001b[32;49mpython3.9 -m pip install --upgrade pip\u001b[0m\n"
     ]
    }
   ],
   "source": [
    "# !py -3.9 -m pip install ultralytics"
   ]
  },
  {
   "cell_type": "code",
   "execution_count": 2,
   "metadata": {},
   "outputs": [],
   "source": [
    "from ultralytics import YOLO"
   ]
  },
  {
   "cell_type": "markdown",
   "metadata": {},
   "source": [
    "Using Ultralytics"
   ]
  },
  {
   "cell_type": "code",
   "execution_count": 16,
   "metadata": {},
   "outputs": [
    {
     "name": "stdout",
     "output_type": "stream",
     "text": [
      "Downloading https://github.com/ultralytics/assets/releases/download/v8.1.0/yolov8l-seg.pt to 'yolov8l-seg.pt'...\n"
     ]
    },
    {
     "name": "stderr",
     "output_type": "stream",
     "text": [
      " 96%|█████████▋| 84.8M/88.1M [00:03<00:00, 27.2MB/s]"
     ]
    }
   ],
   "source": [
    "# Load a model\n",
    "\n",
    "# ### YOLOv8\n",
    "# # https://docs.ultralytics.com/models/yolov8\n",
    "# model = YOLO(\"yolov8n.pt\")\n",
    "# model = YOLO(\"yolov8s.pt\")\n",
    "# model = YOLO(\"yolov8m.pt\") \n",
    "# model = YOLO(\"yolov8l.pt\") \n",
    "\n",
    "# ### YOLOv8 Segmentation\n",
    "# # https://docs.ultralytics.com/models/yolov8\n",
    "# model = YOLO(\"yolov8n-seg.pt\")\n",
    "# model = YOLO(\"yolov8s-seg.pt\")\n",
    "# model = YOLO(\"yolov8m-seg.pt\") \n",
    "model = YOLO(\"yolov8l-seg.pt\") \n",
    "\n",
    "# ### YOLOv9\n",
    "# # https://docs.ultralytics.com/models/yolov9/#performance-on-ms-coco-dataset\n",
    "# model = YOLO(\"yolov9s.pt\") # NOTE not yet supported by ultralytics package\n",
    "# model = YOLO(\"yolov9m.pt\") # NOTE not yet supported by ultralytics package\n",
    "# model = YOLO(\"yolov9c.pt\")\n",
    "# model = YOLO(\"yolov9e.pt\")\n",
    "\n",
    "# ### YOLO-NAS\n",
    "# # https://docs.ultralytics.com/models/yolo-nas/#pre-trained-models\n",
    "# model = YOLO(\"yolo_nas_s.pt\")  \n",
    "# model = YOLO(\"yolo_nas_m.pt\")  \n",
    "# model = YOLO(\"yolo_nas_l.pt\") "
   ]
  },
  {
   "cell_type": "code",
   "execution_count": 17,
   "metadata": {},
   "outputs": [
    {
     "name": "stderr",
     "output_type": "stream",
     "text": [
      "100%|██████████| 88.1M/88.1M [00:03<00:00, 23.7MB/s]\n"
     ]
    },
    {
     "name": "stdout",
     "output_type": "stream",
     "text": [
      "Ultralytics YOLOv8.1.26 🚀 Python-3.9.18 torch-2.0.1 CPU (Apple M1 Pro)\n",
      "YOLOv8l-seg summary (fused): 295 layers, 45973568 parameters, 0 gradients, 220.5 GFLOPs\n",
      "\n",
      "\u001b[34m\u001b[1mPyTorch:\u001b[0m starting from 'yolov8l-seg.pt' with input shape (1, 3, 640, 640) BCHW and output shape(s) ((1, 116, 8400), (1, 32, 160, 160)) (88.1 MB)\n",
      "\n",
      "\u001b[34m\u001b[1mONNX:\u001b[0m starting export with onnx 1.15.0 opset 17...\n",
      "================ Diagnostic Run torch.onnx.export version 2.0.1 ================\n",
      "verbose: False, log level: Level.ERROR\n",
      "======================= 0 NONE 0 NOTE 0 WARNING 0 ERROR ========================\n",
      "\n",
      "\u001b[34m\u001b[1mONNX:\u001b[0m export success ✅ 1.9s, saved as 'yolov8l-seg.onnx' (175.6 MB)\n",
      "\n",
      "Export complete (3.3s)\n",
      "Results saved to \u001b[1m/Users/yunhocho/Documents/GitHub/segmentation-rs/experiments\u001b[0m\n",
      "Predict:         yolo predict task=segment model=yolov8l-seg.onnx imgsz=640  \n",
      "Validate:        yolo val task=segment model=yolov8l-seg.onnx imgsz=640 data=coco.yaml  \n",
      "Visualize:       https://netron.app\n"
     ]
    },
    {
     "data": {
      "text/plain": [
       "'yolov8l-seg.onnx'"
      ]
     },
     "execution_count": 17,
     "metadata": {},
     "output_type": "execute_result"
    }
   ],
   "source": [
    "# Export the model\n",
    "model.export(format=\"onnx\")"
   ]
  },
  {
   "cell_type": "markdown",
   "metadata": {},
   "source": [
    "Using Super Gradients"
   ]
  },
  {
   "cell_type": "code",
   "execution_count": null,
   "metadata": {},
   "outputs": [],
   "source": [
    "# !py -3.9 -m pip install super_gradients"
   ]
  },
  {
   "cell_type": "code",
   "execution_count": null,
   "metadata": {},
   "outputs": [
    {
     "name": "stderr",
     "output_type": "stream",
     "text": [
      "[2024-03-11 08:58:05] INFO - crash_tips_setup.py - Crash tips is enabled. You can set your environment variable to CRASH_HANDLER=FALSE to disable it\n"
     ]
    },
    {
     "name": "stdout",
     "output_type": "stream",
     "text": [
      "The console stream is logged into /Users/yunhocho/sg_logs/console.log\n"
     ]
    },
    {
     "name": "stderr",
     "output_type": "stream",
     "text": [
      "[2024-03-11 08:58:06] WARNING - __init__.py - Failed to import pytorch_quantization\n",
      "[2024-03-11 08:58:06] WARNING - redirects.py - NOTE: Redirects are currently not supported in Windows or MacOs.\n"
     ]
    },
    {
     "name": "stdout",
     "output_type": "stream",
     "text": [
      "[WARNING]No module named 'pycocotools'\n"
     ]
    },
    {
     "name": "stderr",
     "output_type": "stream",
     "text": [
      "[2024-03-11 08:58:13] WARNING - calibrator.py - Failed to import pytorch_quantization\n",
      "[2024-03-11 08:58:13] WARNING - export.py - Failed to import pytorch_quantization\n",
      "[2024-03-11 08:58:13] WARNING - selective_quantization_utils.py - Failed to import pytorch_quantization\n",
      "[2024-03-11 08:58:13] WARNING - env_sanity_check.py - \u001b[31mFailed to verify operating system: Deci officially supports only Linux kernels. Some features may not work as expected.\u001b[0m\n",
      "[2024-03-11 08:58:13] WARNING - env_sanity_check.py - \u001b[31mFailed to verify installed packages: tqdm required but not found\u001b[0m\n",
      "[2024-03-11 08:58:13] WARNING - env_sanity_check.py - \u001b[31mFailed to verify installed packages: boto3 required but not found\u001b[0m\n",
      "[2024-03-11 08:58:13] WARNING - env_sanity_check.py - \u001b[31mFailed to verify installed packages: jsonschema required but not found\u001b[0m\n",
      "[2024-03-11 08:58:13] WARNING - env_sanity_check.py - \u001b[31mFailed to verify installed packages: deprecated required but not found\u001b[0m\n",
      "[2024-03-11 08:58:13] WARNING - env_sanity_check.py - \u001b[31mFailed to verify installed packages: matplotlib required but not found\u001b[0m\n",
      "[2024-03-11 08:58:13] WARNING - env_sanity_check.py - \u001b[31mFailed to verify installed packages: tensorboard required but not found\u001b[0m\n",
      "[2024-03-11 08:58:13] WARNING - env_sanity_check.py - \u001b[31mFailed to verify installed packages: coverage required but not found\u001b[0m\n",
      "[2024-03-11 08:58:13] WARNING - env_sanity_check.py - \u001b[31mFailed to verify installed packages: sphinx required but not found\u001b[0m\n",
      "[2024-03-11 08:58:13] WARNING - env_sanity_check.py - \u001b[31mFailed to verify installed packages: sphinx-rtd-theme required but not found\u001b[0m\n",
      "[2024-03-11 08:58:13] WARNING - env_sanity_check.py - \u001b[31mFailed to verify installed packages: torchmetrics required but not found\u001b[0m\n",
      "[2024-03-11 08:58:13] WARNING - env_sanity_check.py - \u001b[31mFailed to verify installed packages: hydra-core required but not found\u001b[0m\n",
      "[2024-03-11 08:58:13] WARNING - env_sanity_check.py - \u001b[31mFailed to verify installed packages: omegaconf required but not found\u001b[0m\n",
      "[2024-03-11 08:58:13] WARNING - env_sanity_check.py - \u001b[31mFailed to verify installed packages: onnxruntime required but not found\u001b[0m\n",
      "[2024-03-11 08:58:13] WARNING - env_sanity_check.py - \u001b[31mFailed to verify installed packages: onnx required but not found\u001b[0m\n",
      "[2024-03-11 08:58:13] WARNING - env_sanity_check.py - \u001b[31mFailed to verify installed packages: pillow==10.0.0 does not satisfy requirement pillow>=10.2.0\u001b[0m\n",
      "[2024-03-11 08:58:13] WARNING - env_sanity_check.py - \u001b[31mFailed to verify installed packages: pip-tools required but not found\u001b[0m\n",
      "[2024-03-11 08:58:13] WARNING - env_sanity_check.py - \u001b[31mFailed to verify installed packages: pyparsing required but not found\u001b[0m\n",
      "[2024-03-11 08:58:13] WARNING - env_sanity_check.py - \u001b[31mFailed to verify installed packages: einops required but not found\u001b[0m\n",
      "[2024-03-11 08:58:13] WARNING - env_sanity_check.py - \u001b[31mFailed to verify installed packages: treelib required but not found\u001b[0m\n",
      "[2024-03-11 08:58:13] WARNING - env_sanity_check.py - \u001b[31mFailed to verify installed packages: termcolor required but not found\u001b[0m\n",
      "[2024-03-11 08:58:13] WARNING - env_sanity_check.py - \u001b[31mFailed to verify installed packages: stringcase required but not found\u001b[0m\n",
      "[2024-03-11 08:58:13] WARNING - env_sanity_check.py - \u001b[31mFailed to verify installed packages: rapidfuzz required but not found\u001b[0m\n",
      "[2024-03-11 08:58:13] WARNING - env_sanity_check.py - \u001b[31mFailed to verify installed packages: json-tricks required but not found\u001b[0m\n",
      "[2024-03-11 08:58:13] WARNING - env_sanity_check.py - \u001b[31mFailed to verify installed packages: onnxsim required but not found\u001b[0m\n",
      "[2024-03-11 08:58:13] WARNING - env_sanity_check.py - \u001b[31mFailed to verify installed packages: data-gradients required but not found\u001b[0m\n",
      "[2024-03-11 08:58:13] WARNING - env_sanity_check.py - \u001b[31mFailed to verify installed packages: albumentations required but not found\u001b[0m\n",
      "[2024-03-11 08:58:13] WARNING - env_sanity_check.py - \u001b[31mFailed to verify installed packages: fonttools required but not found\u001b[0m\n",
      "[2024-03-11 08:58:13] WARNING - env_sanity_check.py - \u001b[31mFailed to verify installed packages: werkzeug required but not found\u001b[0m\n"
     ]
    }
   ],
   "source": [
    "from super_gradients.conversion.conversion_enums import ExportQuantizationMode\n",
    "from super_gradients.conversion import DetectionOutputFormatMode\n",
    "from super_gradients.common.object_names import Models\n",
    "from super_gradients.training import models"
   ]
  },
  {
   "cell_type": "code",
   "execution_count": null,
   "metadata": {},
   "outputs": [
    {
     "ename": "ModuleNotFoundError",
     "evalue": "No module named 'super_gradients'",
     "output_type": "error",
     "traceback": [
      "\u001b[0;31m---------------------------------------------------------------------------\u001b[0m",
      "\u001b[0;31mModuleNotFoundError\u001b[0m                       Traceback (most recent call last)",
      "Cell \u001b[0;32mIn[11], line 1\u001b[0m\n\u001b[0;32m----> 1\u001b[0m \u001b[38;5;28;01mfrom\u001b[39;00m \u001b[38;5;21;01msuper_gradients\u001b[39;00m\u001b[38;5;21;01m.\u001b[39;00m\u001b[38;5;21;01mconversion\u001b[39;00m\u001b[38;5;21;01m.\u001b[39;00m\u001b[38;5;21;01mconversion_enums\u001b[39;00m \u001b[38;5;28;01mimport\u001b[39;00m ExportQuantizationMode\n\u001b[1;32m      2\u001b[0m \u001b[38;5;28;01mfrom\u001b[39;00m \u001b[38;5;21;01msuper_gradients\u001b[39;00m\u001b[38;5;21;01m.\u001b[39;00m\u001b[38;5;21;01mconversion\u001b[39;00m \u001b[38;5;28;01mimport\u001b[39;00m DetectionOutputFormatMode\n\u001b[1;32m      3\u001b[0m \u001b[38;5;28;01mfrom\u001b[39;00m \u001b[38;5;21;01msuper_gradients\u001b[39;00m\u001b[38;5;21;01m.\u001b[39;00m\u001b[38;5;21;01mcommon\u001b[39;00m\u001b[38;5;21;01m.\u001b[39;00m\u001b[38;5;21;01mobject_names\u001b[39;00m \u001b[38;5;28;01mimport\u001b[39;00m Models\n",
      "\u001b[0;31mModuleNotFoundError\u001b[0m: No module named 'super_gradients'"
     ]
    }
   ],
   "source": [
    "# From custom model\n",
    "# model = models.get(Models.YOLO_NAS_S, num_classes=1, checkpoint_path='ckpt_best.pth')\n",
    "model = models.get(Models.YOLO_NAS_S, pretrained_weights=\"coco\")"
   ]
  },
  {
   "cell_type": "code",
   "execution_count": null,
   "metadata": {},
   "outputs": [],
   "source": [
    "export_result = model.export(\n",
    "    \"yolo_nas_s_int8.onnx\",\n",
    "    output_predictions_format=DetectionOutputFormatMode.BATCH_FORMAT,\n",
    "    quantization_mode=ExportQuantizationMode.INT8 # or ExportQuantizationMode.FP16\n",
    ")"
   ]
  }
 ],
 "metadata": {
  "kernelspec": {
   "display_name": "Python 3",
   "language": "python",
   "name": "python3"
  },
  "language_info": {
   "codemirror_mode": {
    "name": "ipython",
    "version": 3
   },
   "file_extension": ".py",
   "mimetype": "text/x-python",
   "name": "python",
   "nbconvert_exporter": "python",
   "pygments_lexer": "ipython3",
   "version": "3.9.18"
  }
 },
 "nbformat": 4,
 "nbformat_minor": 2
}
